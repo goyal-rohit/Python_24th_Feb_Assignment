{
 "cells": [
  {
   "cell_type": "markdown",
   "id": "e177a984-13e5-4d5b-81a9-f3ad386dfa69",
   "metadata": {},
   "source": [
    "### Q1. List any five functions of the pandas library with execution."
   ]
  },
  {
   "cell_type": "code",
   "execution_count": 1,
   "id": "4b107bc0-b2a0-4685-845a-dce89ad3aeab",
   "metadata": {},
   "outputs": [],
   "source": [
    "import pandas as pd"
   ]
  },
  {
   "cell_type": "markdown",
   "id": "2281688e-d2c3-4b3f-800d-6c07ecd684d3",
   "metadata": {},
   "source": [
    "1. read_csv(): This function is used to read a CSV (comma-separated values) file and create a DataFrame from it."
   ]
  },
  {
   "cell_type": "code",
   "execution_count": 2,
   "id": "1d4e52a2-9b24-4d32-9885-c47fccd96261",
   "metadata": {},
   "outputs": [],
   "source": [
    "df = pd.read_csv(\"people-1000000.csv\")"
   ]
  },
  {
   "cell_type": "markdown",
   "id": "6b104f20-7e07-49d1-a8ae-3295baaf0744",
   "metadata": {},
   "source": [
    "2. head(): This functions displays the top 5 rows. If a argement is passed as integer, this will display those number of records"
   ]
  },
  {
   "cell_type": "code",
   "execution_count": 4,
   "id": "8a5f4376-2c0c-4df0-892e-a5afe510e9eb",
   "metadata": {},
   "outputs": [
    {
     "data": {
      "text/html": [
       "<div>\n",
       "<style scoped>\n",
       "    .dataframe tbody tr th:only-of-type {\n",
       "        vertical-align: middle;\n",
       "    }\n",
       "\n",
       "    .dataframe tbody tr th {\n",
       "        vertical-align: top;\n",
       "    }\n",
       "\n",
       "    .dataframe thead th {\n",
       "        text-align: right;\n",
       "    }\n",
       "</style>\n",
       "<table border=\"1\" class=\"dataframe\">\n",
       "  <thead>\n",
       "    <tr style=\"text-align: right;\">\n",
       "      <th></th>\n",
       "      <th>Index</th>\n",
       "      <th>User Id</th>\n",
       "      <th>First Name</th>\n",
       "      <th>Last Name</th>\n",
       "      <th>Sex</th>\n",
       "      <th>Email</th>\n",
       "      <th>Phone</th>\n",
       "      <th>Date of birth</th>\n",
       "      <th>Job Title</th>\n",
       "    </tr>\n",
       "  </thead>\n",
       "  <tbody>\n",
       "    <tr>\n",
       "      <th>0</th>\n",
       "      <td>1</td>\n",
       "      <td>9E39Bfc4fdcc44e</td>\n",
       "      <td>Diamond</td>\n",
       "      <td>Dudley</td>\n",
       "      <td>Male</td>\n",
       "      <td>teresa26@example.org</td>\n",
       "      <td>922.460.8218x66252</td>\n",
       "      <td>1945-12-06</td>\n",
       "      <td>Photographer</td>\n",
       "    </tr>\n",
       "    <tr>\n",
       "      <th>1</th>\n",
       "      <td>2</td>\n",
       "      <td>32C079F2Bad7e6F</td>\n",
       "      <td>Ethan</td>\n",
       "      <td>Hanson</td>\n",
       "      <td>Female</td>\n",
       "      <td>ufrank@example.com</td>\n",
       "      <td>(458)005-8931x2478</td>\n",
       "      <td>1985-03-08</td>\n",
       "      <td>Actuary</td>\n",
       "    </tr>\n",
       "    <tr>\n",
       "      <th>2</th>\n",
       "      <td>3</td>\n",
       "      <td>a1F7faeBf5f7A3a</td>\n",
       "      <td>Grace</td>\n",
       "      <td>Huerta</td>\n",
       "      <td>Female</td>\n",
       "      <td>tiffany51@example.com</td>\n",
       "      <td>(720)205-4521x7811</td>\n",
       "      <td>1941-01-21</td>\n",
       "      <td>Visual merchandiser</td>\n",
       "    </tr>\n",
       "    <tr>\n",
       "      <th>3</th>\n",
       "      <td>4</td>\n",
       "      <td>c7Dd389CA514dce</td>\n",
       "      <td>Jillian</td>\n",
       "      <td>Bryant</td>\n",
       "      <td>Female</td>\n",
       "      <td>parkerstone@example.net</td>\n",
       "      <td>453-499-3870x793</td>\n",
       "      <td>1933-01-17</td>\n",
       "      <td>Embryologist, clinical</td>\n",
       "    </tr>\n",
       "    <tr>\n",
       "      <th>4</th>\n",
       "      <td>5</td>\n",
       "      <td>eb3Dae1D4cd0A35</td>\n",
       "      <td>Warren</td>\n",
       "      <td>Simpson</td>\n",
       "      <td>Male</td>\n",
       "      <td>ryanmisty@example.com</td>\n",
       "      <td>958-772-8268x47673</td>\n",
       "      <td>2003-05-02</td>\n",
       "      <td>Armed forces training and education officer</td>\n",
       "    </tr>\n",
       "  </tbody>\n",
       "</table>\n",
       "</div>"
      ],
      "text/plain": [
       "   Index          User Id First Name Last Name     Sex  \\\n",
       "0      1  9E39Bfc4fdcc44e    Diamond    Dudley    Male   \n",
       "1      2  32C079F2Bad7e6F      Ethan    Hanson  Female   \n",
       "2      3  a1F7faeBf5f7A3a      Grace    Huerta  Female   \n",
       "3      4  c7Dd389CA514dce    Jillian    Bryant  Female   \n",
       "4      5  eb3Dae1D4cd0A35     Warren   Simpson    Male   \n",
       "\n",
       "                     Email               Phone Date of birth  \\\n",
       "0     teresa26@example.org  922.460.8218x66252    1945-12-06   \n",
       "1       ufrank@example.com  (458)005-8931x2478    1985-03-08   \n",
       "2    tiffany51@example.com  (720)205-4521x7811    1941-01-21   \n",
       "3  parkerstone@example.net    453-499-3870x793    1933-01-17   \n",
       "4    ryanmisty@example.com  958-772-8268x47673    2003-05-02   \n",
       "\n",
       "                                     Job Title  \n",
       "0                                 Photographer  \n",
       "1                                      Actuary  \n",
       "2                          Visual merchandiser  \n",
       "3                       Embryologist, clinical  \n",
       "4  Armed forces training and education officer  "
      ]
     },
     "execution_count": 4,
     "metadata": {},
     "output_type": "execute_result"
    }
   ],
   "source": [
    "df.head()"
   ]
  },
  {
   "cell_type": "markdown",
   "id": "16f5abc6-47d2-4a42-b570-39472f464c36",
   "metadata": {},
   "source": [
    "3. tail() : This functions displays the bottom 5 rows. If a argement is passed as integer, this will display those number of records"
   ]
  },
  {
   "cell_type": "code",
   "execution_count": 5,
   "id": "5f101b4e-a9d1-4e60-8fc7-ccd12681ea51",
   "metadata": {},
   "outputs": [
    {
     "data": {
      "text/html": [
       "<div>\n",
       "<style scoped>\n",
       "    .dataframe tbody tr th:only-of-type {\n",
       "        vertical-align: middle;\n",
       "    }\n",
       "\n",
       "    .dataframe tbody tr th {\n",
       "        vertical-align: top;\n",
       "    }\n",
       "\n",
       "    .dataframe thead th {\n",
       "        text-align: right;\n",
       "    }\n",
       "</style>\n",
       "<table border=\"1\" class=\"dataframe\">\n",
       "  <thead>\n",
       "    <tr style=\"text-align: right;\">\n",
       "      <th></th>\n",
       "      <th>Index</th>\n",
       "      <th>User Id</th>\n",
       "      <th>First Name</th>\n",
       "      <th>Last Name</th>\n",
       "      <th>Sex</th>\n",
       "      <th>Email</th>\n",
       "      <th>Phone</th>\n",
       "      <th>Date of birth</th>\n",
       "      <th>Job Title</th>\n",
       "    </tr>\n",
       "  </thead>\n",
       "  <tbody>\n",
       "    <tr>\n",
       "      <th>999993</th>\n",
       "      <td>999994</td>\n",
       "      <td>A58E9CBea80edB6</td>\n",
       "      <td>Desiree</td>\n",
       "      <td>Navarro</td>\n",
       "      <td>Female</td>\n",
       "      <td>johnsonwarren@example.com</td>\n",
       "      <td>001-441-754-7387x9788</td>\n",
       "      <td>1953-03-21</td>\n",
       "      <td>Community development worker</td>\n",
       "    </tr>\n",
       "    <tr>\n",
       "      <th>999994</th>\n",
       "      <td>999995</td>\n",
       "      <td>5eC9C9E6Cb300A6</td>\n",
       "      <td>Tina</td>\n",
       "      <td>Schneider</td>\n",
       "      <td>Male</td>\n",
       "      <td>kwilkerson@example.com</td>\n",
       "      <td>+1-898-865-1963x749</td>\n",
       "      <td>2006-10-22</td>\n",
       "      <td>Chief Technology Officer</td>\n",
       "    </tr>\n",
       "    <tr>\n",
       "      <th>999995</th>\n",
       "      <td>999996</td>\n",
       "      <td>3080fe8e2Cf298d</td>\n",
       "      <td>Louis</td>\n",
       "      <td>Morrow</td>\n",
       "      <td>Male</td>\n",
       "      <td>atkinsjody@example.com</td>\n",
       "      <td>544-586-1666x446</td>\n",
       "      <td>1979-12-08</td>\n",
       "      <td>Building services engineer</td>\n",
       "    </tr>\n",
       "    <tr>\n",
       "      <th>999996</th>\n",
       "      <td>999997</td>\n",
       "      <td>1Dc832dBc54cc0c</td>\n",
       "      <td>Brittney</td>\n",
       "      <td>Gillespie</td>\n",
       "      <td>Female</td>\n",
       "      <td>helenbray@example.org</td>\n",
       "      <td>860.931.6256x86403</td>\n",
       "      <td>1947-08-16</td>\n",
       "      <td>Senior tax professional/tax inspector</td>\n",
       "    </tr>\n",
       "    <tr>\n",
       "      <th>999997</th>\n",
       "      <td>999998</td>\n",
       "      <td>ad0dEfAf71D90Ff</td>\n",
       "      <td>Cory</td>\n",
       "      <td>Collins</td>\n",
       "      <td>Male</td>\n",
       "      <td>vernonleblanc@example.com</td>\n",
       "      <td>001-877-079-9583x9181</td>\n",
       "      <td>2006-01-23</td>\n",
       "      <td>Optician, dispensing</td>\n",
       "    </tr>\n",
       "    <tr>\n",
       "      <th>999998</th>\n",
       "      <td>999999</td>\n",
       "      <td>BaaABECa3B0b7b9</td>\n",
       "      <td>Edward</td>\n",
       "      <td>Ramirez</td>\n",
       "      <td>Male</td>\n",
       "      <td>kgomez@example.net</td>\n",
       "      <td>+1-899-782-9850x80883</td>\n",
       "      <td>1940-10-19</td>\n",
       "      <td>Acupuncturist</td>\n",
       "    </tr>\n",
       "    <tr>\n",
       "      <th>999999</th>\n",
       "      <td>1000000</td>\n",
       "      <td>eBAadbbEBaeec20</td>\n",
       "      <td>Katrina</td>\n",
       "      <td>Cobb</td>\n",
       "      <td>Male</td>\n",
       "      <td>harrellfrederick@example.net</td>\n",
       "      <td>(622)120-4726x613</td>\n",
       "      <td>1917-12-07</td>\n",
       "      <td>Site engineer</td>\n",
       "    </tr>\n",
       "  </tbody>\n",
       "</table>\n",
       "</div>"
      ],
      "text/plain": [
       "          Index          User Id First Name  Last Name     Sex  \\\n",
       "999993   999994  A58E9CBea80edB6    Desiree    Navarro  Female   \n",
       "999994   999995  5eC9C9E6Cb300A6       Tina  Schneider    Male   \n",
       "999995   999996  3080fe8e2Cf298d      Louis     Morrow    Male   \n",
       "999996   999997  1Dc832dBc54cc0c   Brittney  Gillespie  Female   \n",
       "999997   999998  ad0dEfAf71D90Ff       Cory    Collins    Male   \n",
       "999998   999999  BaaABECa3B0b7b9     Edward    Ramirez    Male   \n",
       "999999  1000000  eBAadbbEBaeec20    Katrina       Cobb    Male   \n",
       "\n",
       "                               Email                  Phone Date of birth  \\\n",
       "999993     johnsonwarren@example.com  001-441-754-7387x9788    1953-03-21   \n",
       "999994        kwilkerson@example.com    +1-898-865-1963x749    2006-10-22   \n",
       "999995        atkinsjody@example.com       544-586-1666x446    1979-12-08   \n",
       "999996         helenbray@example.org     860.931.6256x86403    1947-08-16   \n",
       "999997     vernonleblanc@example.com  001-877-079-9583x9181    2006-01-23   \n",
       "999998            kgomez@example.net  +1-899-782-9850x80883    1940-10-19   \n",
       "999999  harrellfrederick@example.net      (622)120-4726x613    1917-12-07   \n",
       "\n",
       "                                    Job Title  \n",
       "999993           Community development worker  \n",
       "999994               Chief Technology Officer  \n",
       "999995             Building services engineer  \n",
       "999996  Senior tax professional/tax inspector  \n",
       "999997                   Optician, dispensing  \n",
       "999998                          Acupuncturist  \n",
       "999999                          Site engineer  "
      ]
     },
     "execution_count": 5,
     "metadata": {},
     "output_type": "execute_result"
    }
   ],
   "source": [
    "df.tail(7)"
   ]
  },
  {
   "cell_type": "markdown",
   "id": "2cdb4765-306a-4331-8b73-0cc841f49ee5",
   "metadata": {},
   "source": [
    "4. value_counts(): This function is used to count the number of occurrences of each unique value in a column of a DataFrame."
   ]
  },
  {
   "cell_type": "code",
   "execution_count": 6,
   "id": "b40ef1a6-e977-4ca9-84a4-de9c23ec0965",
   "metadata": {},
   "outputs": [
    {
     "data": {
      "text/plain": [
       "Male      500234\n",
       "Female    499766\n",
       "Name: Sex, dtype: int64"
      ]
     },
     "execution_count": 6,
     "metadata": {},
     "output_type": "execute_result"
    }
   ],
   "source": [
    "df[\"Sex\"].value_counts()"
   ]
  },
  {
   "cell_type": "markdown",
   "id": "039079c1-cea7-466d-80ed-885982ea12d6",
   "metadata": {},
   "source": [
    "5. dtypes(): This function displays the data type of the columns"
   ]
  },
  {
   "cell_type": "code",
   "execution_count": 16,
   "id": "5d056d8e-5744-4462-bcbc-9288eddadee8",
   "metadata": {},
   "outputs": [
    {
     "data": {
      "text/plain": [
       "Index             int64\n",
       "User Id          object\n",
       "First Name       object\n",
       "Last Name        object\n",
       "Sex              object\n",
       "Email            object\n",
       "Phone            object\n",
       "Date of birth    object\n",
       "Job Title        object\n",
       "dtype: object"
      ]
     },
     "execution_count": 16,
     "metadata": {},
     "output_type": "execute_result"
    }
   ],
   "source": [
    "df.dtypes"
   ]
  },
  {
   "cell_type": "markdown",
   "id": "0fef86a6-c876-414f-866d-c7a852d77aed",
   "metadata": {},
   "source": [
    "### Q2. Given a Pandas DataFrame df with columns 'A', 'B', and 'C', write a Python function to re-index the DataFrame with a new index that starts from 1 and increments by 2 for each row."
   ]
  },
  {
   "cell_type": "code",
   "execution_count": 18,
   "id": "23d1943e-832e-49c8-bbda-55d46055fa63",
   "metadata": {},
   "outputs": [
    {
     "name": "stdout",
     "output_type": "stream",
     "text": [
      "   A  B  C\n",
      "0  1  4  7\n",
      "1  2  5  8\n",
      "2  3  6  9\n",
      "   A  B  C\n",
      "1  1  4  7\n",
      "3  2  5  8\n",
      "5  3  6  9\n"
     ]
    }
   ],
   "source": [
    "\n",
    "df = pd.DataFrame({'A': [1, 2, 3], 'B': [4, 5, 6], 'C': [7, 8, 9]})\n",
    "\n",
    "print(df)\n",
    "new_index = pd.Index(range(1, len(df)*2, 2))\n",
    "df.index = new_index\n",
    "\n",
    "\n",
    "print(df)\n"
   ]
  },
  {
   "cell_type": "markdown",
   "id": "6ac8e042-dc90-4b32-be3d-9b0fc1e5aced",
   "metadata": {},
   "source": [
    "### Q3. You have a Pandas DataFrame df with a column named 'Values'. Write a Python function that iterates over the DataFrame and calculates the sum of the first three values in the 'Values' column. The function should print the sum to the console."
   ]
  },
  {
   "cell_type": "code",
   "execution_count": 20,
   "id": "132b05b5-b722-4205-876c-c260e6371573",
   "metadata": {},
   "outputs": [
    {
     "name": "stdout",
     "output_type": "stream",
     "text": [
      "60\n"
     ]
    }
   ],
   "source": [
    "df = pd.DataFrame({'Values':[10,20,30,40,50]})\n",
    "sum = df['Values'][0:3].sum()\n",
    "print(sum)"
   ]
  },
  {
   "cell_type": "markdown",
   "id": "502859e0-5555-49b8-a9cb-0662bb0e17fc",
   "metadata": {},
   "source": [
    "### Q4. Given a Pandas DataFrame df with a column 'Text', write a Python function to create a new column 'Word_Count' that contains the number of words in each row of the 'Text' column."
   ]
  },
  {
   "cell_type": "code",
   "execution_count": 33,
   "id": "578d5bf2-f905-4b94-9d02-d9b42673a59c",
   "metadata": {},
   "outputs": [
    {
     "name": "stdout",
     "output_type": "stream",
     "text": [
      "    Text  Word_Count\n",
      "0  Hello           5\n",
      "1     my           2\n",
      "2   name           4\n",
      "3     is           2\n",
      "4  Rohit           5\n"
     ]
    }
   ],
   "source": [
    "df = pd.DataFrame({'Text': ['Hello', 'my','name','is','Rohit']})\n",
    "df['Word_Count']= df['Text'].apply(lambda x: len(str(x)))\n",
    "print(df)"
   ]
  },
  {
   "cell_type": "markdown",
   "id": "a131bea8-8593-44ea-96f4-37905cf726b5",
   "metadata": {},
   "source": [
    "### Q5. How are DataFrame.size() and DataFrame.shape() different?"
   ]
  },
  {
   "cell_type": "markdown",
   "id": "985d3d83-8b4a-4adc-9bf2-435228ffb36f",
   "metadata": {},
   "source": [
    "The size and shape attributes are used to get information about the dimensions of a Pandas DataFrame.\n",
    "\n",
    "The size attribute returns the total number of elements in the DataFrame. It is calculated as the product of the number of rows and the number of columns in the DataFrame.\n",
    "\n",
    "The shape attribute returns a tuple that contains the number of rows and columns in the DataFrame, respectively."
   ]
  },
  {
   "cell_type": "code",
   "execution_count": 35,
   "id": "d4505f98-4557-4b09-916e-e1ee4276394d",
   "metadata": {},
   "outputs": [
    {
     "name": "stdout",
     "output_type": "stream",
     "text": [
      "DataFrame size: 9\n",
      "DataFrame shape: (3, 3)\n"
     ]
    }
   ],
   "source": [
    "df = pd.DataFrame({'A': [1, 2, 3], 'B': [4, 5, 6], 'C': [7, 8, 9]})\n",
    "\n",
    "size = df.size\n",
    "shape = df.shape\n",
    "\n",
    "print(f\"DataFrame size: {size}\")\n",
    "print(f\"DataFrame shape: {shape}\")"
   ]
  },
  {
   "cell_type": "markdown",
   "id": "b6d22be6-4f9a-454b-9daa-053442c54563",
   "metadata": {},
   "source": [
    "### Q6. Which function of pandas do we use to read an excel file?"
   ]
  },
  {
   "cell_type": "markdown",
   "id": "06f90ab7-f055-4742-822e-6a5d0362f3c4",
   "metadata": {},
   "source": [
    "we use pd.read_excel function to read an excel file"
   ]
  },
  {
   "cell_type": "markdown",
   "id": "1ec08f0b-2219-4e7c-b3bd-69dfb0b1c12f",
   "metadata": {},
   "source": [
    "### Q7. You have a Pandas DataFrame df that contains a column named 'Email' that contains email addresses in the format 'username@domain.com'. Write a Python function that creates a new column 'Username' in df that contains only the username part of each email address.\n",
    "#### The username is the part of the email address that appears before the '@' symbol. For example, if the email address is 'john.doe@example.com', the 'Username' column should contain  john.doe'. Your function should extract the username from each email address and store it in the new 'Username' column."
   ]
  },
  {
   "cell_type": "code",
   "execution_count": 36,
   "id": "d6694fa1-3591-4989-ae28-de1fa010d8e5",
   "metadata": {},
   "outputs": [
    {
     "name": "stdout",
     "output_type": "stream",
     "text": [
      "                  Email   username\n",
      "0   username@domain.com   username\n",
      "1  username2@domain.com  username2\n"
     ]
    }
   ],
   "source": [
    "df = pd.DataFrame({'Email':['username@domain.com','username2@domain.com']})\n",
    "df[\"username\"] = df['Email'].str.split('@').str[0]\n",
    "print(df)"
   ]
  },
  {
   "cell_type": "markdown",
   "id": "888c7660-a001-4de4-95dd-2d54edbf460a",
   "metadata": {},
   "source": [
    "### Q8. You have a Pandas DataFrame df with columns 'A', 'B', and 'C'. Write a Python function that selects all rows where the value in column 'A' is greater than 5 and the value in column 'B'  s less than 10. The function should return a new DataFrame that contains only the selected rows."
   ]
  },
  {
   "cell_type": "code",
   "execution_count": 38,
   "id": "0186854b-b415-4f64-ad24-40c396b79395",
   "metadata": {},
   "outputs": [
    {
     "data": {
      "text/html": [
       "<div>\n",
       "<style scoped>\n",
       "    .dataframe tbody tr th:only-of-type {\n",
       "        vertical-align: middle;\n",
       "    }\n",
       "\n",
       "    .dataframe tbody tr th {\n",
       "        vertical-align: top;\n",
       "    }\n",
       "\n",
       "    .dataframe thead th {\n",
       "        text-align: right;\n",
       "    }\n",
       "</style>\n",
       "<table border=\"1\" class=\"dataframe\">\n",
       "  <thead>\n",
       "    <tr style=\"text-align: right;\">\n",
       "      <th></th>\n",
       "      <th>A</th>\n",
       "      <th>B</th>\n",
       "      <th>C</th>\n",
       "    </tr>\n",
       "  </thead>\n",
       "  <tbody>\n",
       "    <tr>\n",
       "      <th>0</th>\n",
       "      <td>3</td>\n",
       "      <td>5</td>\n",
       "      <td>1</td>\n",
       "    </tr>\n",
       "    <tr>\n",
       "      <th>1</th>\n",
       "      <td>8</td>\n",
       "      <td>2</td>\n",
       "      <td>7</td>\n",
       "    </tr>\n",
       "    <tr>\n",
       "      <th>2</th>\n",
       "      <td>6</td>\n",
       "      <td>9</td>\n",
       "      <td>4</td>\n",
       "    </tr>\n",
       "    <tr>\n",
       "      <th>3</th>\n",
       "      <td>2</td>\n",
       "      <td>3</td>\n",
       "      <td>5</td>\n",
       "    </tr>\n",
       "    <tr>\n",
       "      <th>4</th>\n",
       "      <td>9</td>\n",
       "      <td>1</td>\n",
       "      <td>2</td>\n",
       "    </tr>\n",
       "  </tbody>\n",
       "</table>\n",
       "</div>"
      ],
      "text/plain": [
       "   A  B  C\n",
       "0  3  5  1\n",
       "1  8  2  7\n",
       "2  6  9  4\n",
       "3  2  3  5\n",
       "4  9  1  2"
      ]
     },
     "execution_count": 38,
     "metadata": {},
     "output_type": "execute_result"
    }
   ],
   "source": [
    "df = pd.DataFrame({'A':[3,8,6,2,9], 'B':[5,2,9,3,1], 'C':[1,7,4,5,2]})\n",
    "df"
   ]
  },
  {
   "cell_type": "code",
   "execution_count": 43,
   "id": "17291fc3-dcd7-4005-9e06-98c9357898c1",
   "metadata": {},
   "outputs": [
    {
     "data": {
      "text/html": [
       "<div>\n",
       "<style scoped>\n",
       "    .dataframe tbody tr th:only-of-type {\n",
       "        vertical-align: middle;\n",
       "    }\n",
       "\n",
       "    .dataframe tbody tr th {\n",
       "        vertical-align: top;\n",
       "    }\n",
       "\n",
       "    .dataframe thead th {\n",
       "        text-align: right;\n",
       "    }\n",
       "</style>\n",
       "<table border=\"1\" class=\"dataframe\">\n",
       "  <thead>\n",
       "    <tr style=\"text-align: right;\">\n",
       "      <th></th>\n",
       "      <th>A</th>\n",
       "      <th>B</th>\n",
       "      <th>C</th>\n",
       "    </tr>\n",
       "  </thead>\n",
       "  <tbody>\n",
       "    <tr>\n",
       "      <th>1</th>\n",
       "      <td>8</td>\n",
       "      <td>2</td>\n",
       "      <td>7</td>\n",
       "    </tr>\n",
       "    <tr>\n",
       "      <th>2</th>\n",
       "      <td>6</td>\n",
       "      <td>9</td>\n",
       "      <td>4</td>\n",
       "    </tr>\n",
       "    <tr>\n",
       "      <th>4</th>\n",
       "      <td>9</td>\n",
       "      <td>1</td>\n",
       "      <td>2</td>\n",
       "    </tr>\n",
       "  </tbody>\n",
       "</table>\n",
       "</div>"
      ],
      "text/plain": [
       "   A  B  C\n",
       "1  8  2  7\n",
       "2  6  9  4\n",
       "4  9  1  2"
      ]
     },
     "execution_count": 43,
     "metadata": {},
     "output_type": "execute_result"
    }
   ],
   "source": [
    "df[(df['A']>5) & (df['B']<10)]"
   ]
  },
  {
   "cell_type": "markdown",
   "id": "81057439-b345-4fa5-adfb-6c911a2e7487",
   "metadata": {},
   "source": [
    "### Q9. Given a Pandas DataFrame df with a column 'Values', write a Python function to calculate the mean, median, and standard deviation of the values in the 'Values' column."
   ]
  },
  {
   "cell_type": "code",
   "execution_count": 47,
   "id": "bf81f850-7e01-4c07-9a1d-efc23b46ee15",
   "metadata": {},
   "outputs": [
    {
     "name": "stdout",
     "output_type": "stream",
     "text": [
      "The Mean of the column is 30.0\n",
      "The Median of the column is 30.0\n",
      "The Standard Deviation of the column is 15.811388300841896\n"
     ]
    }
   ],
   "source": [
    "df = pd.DataFrame({'Values':[10,20,30,40,50]})\n",
    "mean = df['Values'].mean()\n",
    "median = df['Values'].median()\n",
    "std = df['Values'].std()\n",
    "print(f\"The Mean of the column is {mean}\")\n",
    "print(f\"The Median of the column is {median}\")\n",
    "print(f\"The Standard Deviation of the column is {std}\")"
   ]
  },
  {
   "cell_type": "markdown",
   "id": "956bb6bc-479b-4b74-af42-fdf1d3bd1358",
   "metadata": {},
   "source": [
    "### Q10. Given a Pandas DataFrame df with a column 'Sales' and a column 'Date', write a Python function to create a new column 'MovingAverage' that contains the moving average of the sales for  he past 7 days for each row in the DataFrame. The moving average should be calculated using a window of size 7 and should include the current day."
   ]
  },
  {
   "cell_type": "code",
   "execution_count": 55,
   "id": "aefd9410-94aa-431e-aab4-7b422ca0f448",
   "metadata": {},
   "outputs": [
    {
     "name": "stdout",
     "output_type": "stream",
     "text": [
      "    Sales       Date  Moving Average\n",
      "0     100 2023-01-01           100.0\n",
      "1     200 2023-01-02           150.0\n",
      "2     300 2023-01-03           200.0\n",
      "3     400 2023-01-04           250.0\n",
      "4     500 2023-01-05           300.0\n",
      "5     600 2023-01-08           350.0\n",
      "6     700 2023-01-09           400.0\n",
      "7     800 2023-01-10           500.0\n",
      "8     900 2023-01-11           600.0\n",
      "9    1000 2023-01-12           700.0\n",
      "10   1100 2023-01-15           800.0\n",
      "11   1200 2023-01-16           900.0\n"
     ]
    }
   ],
   "source": [
    "df = pd.DataFrame({'Sales':[100,200,300,400,500,600,700,800,900,1000,1100,1200], 'Date':['2023-01-01','2023-01-02','2023-01-03','2023-01-04','2023-01-05','2023-01-08','2023-01-09','2023-01-10','2023-01-11','2023-01-12','2023-01-15','2023-01-16']})\n",
    "df['Date'] = pd.to_datetime(df['Date'])\n",
    "df['Moving Average'] = df['Sales'].rolling(window = 7, min_periods=1).mean()\n",
    "print(df)"
   ]
  },
  {
   "cell_type": "markdown",
   "id": "1312634f-b020-4253-90fd-d02517eb6768",
   "metadata": {},
   "source": [
    "### Q11. You have a Pandas DataFrame df with a column 'Date'. Write a Python function that creates a new column 'Weekday' in the DataFrame. The 'Weekday' column should contain the weekday name (e.g. Monday, Tuesday) corresponding to each date in the 'Date' column."
   ]
  },
  {
   "cell_type": "code",
   "execution_count": 79,
   "id": "d257d916-3667-4095-9857-6c4760e399ac",
   "metadata": {},
   "outputs": [
    {
     "name": "stdout",
     "output_type": "stream",
     "text": [
      "         Date    Weekday\n",
      "0  2023-01-01     Sunday\n",
      "1  2023-01-02     Monday\n",
      "2  2023-01-03    Tuesday\n",
      "3  2023-01-04  Wednesday\n",
      "4  2023-01-05   Thursday\n",
      "5  2023-01-08     Sunday\n",
      "6  2023-01-09     Monday\n",
      "7  2023-01-10    Tuesday\n",
      "8  2023-01-11  Wednesday\n",
      "9  2023-01-12   Thursday\n",
      "10 2023-01-15     Sunday\n",
      "11 2023-01-16     Monday\n"
     ]
    }
   ],
   "source": [
    "df = pd.DataFrame({'Date':['2023-01-01','2023-01-02','2023-01-03','2023-01-04','2023-01-05','2023-01-08','2023-01-09','2023-01-10','2023-01-11','2023-01-12','2023-01-15','2023-01-16']})\n",
    "df['Date'] = pd.to_datetime(df['Date'])\n",
    "df['Weekday'] = df['Date'].dt.strftime('%A')\n",
    "print(df)"
   ]
  },
  {
   "cell_type": "markdown",
   "id": "364c241e-7f4a-4ade-a467-4f6d71a847f6",
   "metadata": {},
   "source": [
    "### Q12. Given a Pandas DataFrame df with a column 'Date' that contains timestamps, write a Python function to select all rows where the date is between '2023-01-01' and '2023-01-11'."
   ]
  },
  {
   "cell_type": "code",
   "execution_count": 88,
   "id": "776fe627-3430-402c-9e23-442aea5dedad",
   "metadata": {},
   "outputs": [
    {
     "name": "stdout",
     "output_type": "stream",
     "text": [
      "        Date\n",
      "2 2023-01-03\n",
      "3 2023-01-04\n",
      "4 2023-01-05\n",
      "5 2023-01-08\n",
      "6 2023-01-09\n",
      "7 2023-01-10\n"
     ]
    }
   ],
   "source": [
    "df = pd.DataFrame({'Date':['2023-01-01','2023-01-02','2023-01-03','2023-01-04','2023-01-05','2023-01-08','2023-01-09','2023-01-10','2023-01-11','2023-01-12','2023-01-15','2023-01-16']})\n",
    "df['Date'] = pd.to_datetime(df['Date'])\n",
    "df1 = df[(df['Date']>'2023-01-02') & (df['Date']<'2023-01-11')]\n",
    "print(df1)"
   ]
  },
  {
   "cell_type": "markdown",
   "id": "aeeecafa-bde2-4dc8-90f1-0ea5df3f887c",
   "metadata": {},
   "source": [
    "### Q13. To use the basic functions of pandas, what is the first and foremost necessary library that needs to be imported?"
   ]
  },
  {
   "cell_type": "markdown",
   "id": "b70fd98b-99f7-467e-b3e6-82b08e2d4903",
   "metadata": {},
   "source": [
    "#### The first and foremost necessary library that needs to be imported to use the basic functions of pandas is pandas itself."
   ]
  },
  {
   "cell_type": "code",
   "execution_count": null,
   "id": "7518a22a-0ecf-40b8-82b1-46689a390c0c",
   "metadata": {},
   "outputs": [],
   "source": []
  }
 ],
 "metadata": {
  "kernelspec": {
   "display_name": "Python 3 (ipykernel)",
   "language": "python",
   "name": "python3"
  },
  "language_info": {
   "codemirror_mode": {
    "name": "ipython",
    "version": 3
   },
   "file_extension": ".py",
   "mimetype": "text/x-python",
   "name": "python",
   "nbconvert_exporter": "python",
   "pygments_lexer": "ipython3",
   "version": "3.9.13"
  }
 },
 "nbformat": 4,
 "nbformat_minor": 5
}
